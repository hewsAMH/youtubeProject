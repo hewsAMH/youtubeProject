{
 "cells": [
  {
   "cell_type": "markdown",
   "id": "c6a89c26-537b-4992-b9ec-4d0de3a021fb",
   "metadata": {},
   "source": [
    "### Youtube Trending Data"
   ]
  },
  {
   "cell_type": "code",
   "execution_count": null,
   "id": "01e09bbb-0b7f-4e56-9591-7cc4e1358109",
   "metadata": {},
   "outputs": [],
   "source": []
  }
 ],
 "metadata": {
  "kernelspec": {
   "display_name": "Python 3 (ipykernel)",
   "language": "python",
   "name": "python3"
  },
  "language_info": {
   "codemirror_mode": {
    "name": "ipython",
    "version": 3
   },
   "file_extension": ".py",
   "mimetype": "text/x-python",
   "name": "python",
   "nbconvert_exporter": "python",
   "pygments_lexer": "ipython3",
   "version": "3.8.19"
  }
 },
 "nbformat": 4,
 "nbformat_minor": 5
}
