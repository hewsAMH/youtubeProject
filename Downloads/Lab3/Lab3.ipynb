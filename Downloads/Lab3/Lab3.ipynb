{
 "cells": [
  {
   "cell_type": "markdown",
   "id": "e52a63c5-8632-42cf-a598-1f9b9fcf118e",
   "metadata": {},
   "source": [
    "# Lab 3 (Due @ by 1:59 am via Canvas/Gradescope)"
   ]
  },
  {
   "cell_type": "markdown",
   "id": "5a4381c6-9601-4e78-806e-2c06d0aaea20",
   "metadata": {},
   "source": [
    "Your Name: Xiaoyu Ju"
   ]
  },
  {
   "cell_type": "markdown",
   "id": "036f3831-9eab-4c04-a0e5-dbe043d32320",
   "metadata": {},
   "source": [
    "Due: Wednesday or Saturday, Oct. 26 @ 1:59 am\n",
    "\n",
    "### Submission Instructions\n",
    "Submit this `ipynb` file to Gradescope (this can also be done via the assignment on Canvas).  To ensure that your submitted `ipynb` file represents your latest code, make sure to give a fresh `Kernel > Restart & Run All` just before uploading the `ipynb` file to gradescope. **In addition:**\n",
    "- **Make sure your name is entered above**\n",
    "- Make sure you comment your code effectively\n",
    "- If problems are difficult for the TAs/Profs to grade, you will lose points\n",
    "\n",
    "### Special Note for This Lab\n",
    "There are \"handwritten\" parts of this lab. You must show all math work/steps (no matter how trivial) to receive full credit. You may either use LaTeX typesetting within a Markdown cell, or do it by hand with pen and paper and embed the image in this .ipynb file, or submit a separate pdf file with your handwritten work. Round all decimals to three places.\n",
    "\n",
    "### Tips for success\n",
    "- Collaborate: bounce ideas off of each other, if you are having trouble you can ask your classmates or Dr. Singhal for help with specific issues, however...\n",
    "- Under no circumstances may one student view or share their ungraded homework or quiz with another student [(see also)](http://www.northeastern.edu/osccr/academic-integrity), i.e. you are welcome to **talk about** (*not* show each other your answers to) the problems."
   ]
  },
  {
   "cell_type": "code",
   "execution_count": 2,
   "id": "dc019ad2-1071-40cc-b2c6-f75cf8f9ab1f",
   "metadata": {},
   "outputs": [
    {
     "name": "stdout",
     "output_type": "stream",
     "text": [
      "Collecting sympy\n",
      "  Downloading sympy-1.13.3-py3-none-any.whl.metadata (12 kB)\n",
      "Collecting mpmath<1.4,>=1.1.0 (from sympy)\n",
      "  Downloading mpmath-1.3.0-py3-none-any.whl.metadata (8.6 kB)\n",
      "Downloading sympy-1.13.3-py3-none-any.whl (6.2 MB)\n",
      "\u001b[2K   \u001b[90m━━━━━━━━━━━━━━━━━━━━━━━━━━━━━━━━━━━━━━━━\u001b[0m \u001b[32m6.2/6.2 MB\u001b[0m \u001b[31m7.1 MB/s\u001b[0m eta \u001b[36m0:00:00\u001b[0ma \u001b[36m0:00:01\u001b[0m\n",
      "\u001b[?25hDownloading mpmath-1.3.0-py3-none-any.whl (536 kB)\n",
      "\u001b[2K   \u001b[90m━━━━━━━━━━━━━━━━━━━━━━━━━━━━━━━━━━━━━━━━\u001b[0m \u001b[32m536.2/536.2 kB\u001b[0m \u001b[31m8.3 MB/s\u001b[0m eta \u001b[36m0:00:00\u001b[0m\n",
      "\u001b[?25hInstalling collected packages: mpmath, sympy\n",
      "Successfully installed mpmath-1.3.0 sympy-1.13.3\n"
     ]
    }
   ],
   "source": [
    "!pip install sympy"
   ]
  },
  {
   "cell_type": "code",
   "execution_count": 3,
   "id": "128c2500-de83-4732-a3ac-78ccdd6094f2",
   "metadata": {},
   "outputs": [],
   "source": [
    "# you might use the below modules on this lab\n",
    "import warnings\n",
    "warnings.simplefilter(action='ignore', category=FutureWarning)\n",
    "import pandas as pd\n",
    "import numpy as np\n",
    "import plotly.express as px\n",
    "from sympy import *"
   ]
  },
  {
   "cell_type": "markdown",
   "id": "d197c58c-8285-446e-bb07-347de63ce276",
   "metadata": {},
   "source": [
    "## Part 1: Eigenvalues \\& Eigenvectors\n",
    "\n",
    "## Part 1.1: Computation by hand (30 Points)\n",
    "\n",
    "Show all math work/steps (no matter how trivial) to receive full credit. You may either use LaTeX typesetting within a Markdown cell, or do it by hand with pen and paper and embed the image in this .ipynb file, or submit a separate pdf file with your handwritten work. Round all decimals to three places.\n",
    "\n",
    "Find the eigenvalues and eigenvectors for the following matrices by hand:\n",
    "\n",
    "a) $$A = \\begin{bmatrix}\n",
    "    2 & -2 \\\\ -1 & 3\n",
    "\\end{bmatrix}$$\n",
    "\n",
    "b) $$B = \\begin{bmatrix}\n",
    "    7 & 3 \\\\ 3 & -1\n",
    "\\end{bmatrix}$$\n"
   ]
  },
  {
   "cell_type": "markdown",
   "id": "d77c1665-8a94-42ea-b846-86a1d7246426",
   "metadata": {},
   "source": []
  },
  {
   "cell_type": "markdown",
   "id": "f6411d47-0169-4164-8a40-ebe7c52fefe3",
   "metadata": {},
   "source": [
    "## Part 1.2: Computation using `numpy` (20 Points)\n",
    "\n",
    "Now for each of the above matrices, using `numpy` find their eigenvalues and eigenvectors:"
   ]
  },
  {
   "cell_type": "code",
   "execution_count": 4,
   "id": "4540abd3-3cb4-448e-87de-6ed9a389cbf7",
   "metadata": {},
   "outputs": [
    {
     "data": {
      "text/plain": [
       "(array([1., 4.]),\n",
       " array([[-0.89442719,  0.70710678],\n",
       "        [-0.4472136 , -0.70710678]]),\n",
       " array([ 8., -2.]),\n",
       " array([[ 0.9486833 , -0.31622777],\n",
       "        [ 0.31622777,  0.9486833 ]]))"
      ]
     },
     "execution_count": 4,
     "metadata": {},
     "output_type": "execute_result"
    }
   ],
   "source": [
    "import numpy as np\n",
    "\n",
    "# Define matrices A and B\n",
    "A = np.array([[2, -2], [-1, 3]])\n",
    "B = np.array([[7, 3], [3, -1]])\n",
    "\n",
    "# Compute eigenvalues and eigenvectors for A\n",
    "eigenvalues_A, eigenvectors_A = np.linalg.eig(A)\n",
    "\n",
    "# Compute eigenvalues and eigenvectors for B\n",
    "eigenvalues_B, eigenvectors_B = np.linalg.eig(B)\n",
    "\n",
    "eigenvalues_A, eigenvectors_A, eigenvalues_B, eigenvectors_B"
   ]
  },
  {
   "cell_type": "markdown",
   "id": "6635e0eb-17e5-41c0-a17d-5589994f406b",
   "metadata": {},
   "source": [
    "# Part 2: Projections/Line of Best Fit\n",
    "\n",
    "## Part 2.1: 2-d Projection by hand (25 points)\n",
    "\n",
    "Show all math work/steps (no matter how trivial) to receive full credit. You may either use LaTeX typesetting within a Markdown cell, or do it by hand with pen and paper and embed the image in this .ipynb file, or submit a separate pdf file with your handwritten work. Round all decimals to three places. \n",
    "\n",
    "Find the projection of vector $\\vec{a}$ onto vector $\\vec{b}$:\n",
    "\n",
    "$$\\vec{a} = \\begin{bmatrix}\n",
    "    -4 \\\\ 1\n",
    "\\end{bmatrix}$$\n",
    "\n",
    "$$\\vec{b} = \\begin{bmatrix}\n",
    "    1 \\\\ 2\n",
    "\\end{bmatrix}$$\n"
   ]
  },
  {
   "cell_type": "markdown",
   "id": "4760f731-4cdb-4bdf-9688-87fef46bb493",
   "metadata": {},
   "source": []
  },
  {
   "cell_type": "markdown",
   "id": "180c3ae8-c192-401b-a4fe-7bf1ba6327f8",
   "metadata": {},
   "source": [
    "## Part 2.2: Line of Best Fit using `numpy`\n",
    "\n",
    "Now, let's extend this to a real data example. On Canvas there is the `big_recipe.csv` in the Labs Module, which contains a recipe data set that we scraped earlier in the semester. For this last part, we will try to answer the question \"How would we mathematically quantify the linear relationship between Cholesterol and Total Fat in these recipes?\"\n",
    "\n",
    "### Part 2.2.1: Exploring Data (5 points)\n",
    "\n",
    "The data are read in for you, and a plot is made below. In a markdown cell, explain why you would or would not think that fitting a straight line to model this relationship makes sense."
   ]
  },
  {
   "cell_type": "code",
   "execution_count": null,
   "id": "013db860-c48a-4981-88c0-d57ccd28c885",
   "metadata": {},
   "outputs": [],
   "source": [
    "recipe_df = pd.read_csv('big_recipe.csv')\n",
    "\n",
    "px.scatter(data_frame=recipe_df, x='Cholesterol', y='Total Fat', color='query', hover_data=['name'])"
   ]
  },
  {
   "cell_type": "markdown",
   "id": "22633583-31ee-4645-9256-7c4013941bbf",
   "metadata": {},
   "source": []
  },
  {
   "cell_type": "markdown",
   "id": "1cb72f55-0380-4a94-9e52-7677ee40efd7",
   "metadata": {},
   "source": [
    "### Part 2.2.2: Preparing Data (5 points)\n",
    "\n",
    "In order to fit the line of best fit through these points using NumPy, we need to store the data as vectors/matrices (arrays) in NumPy. The code below does that. Explain in a markdown cell why we are storing Cholesterol in a matrix called $X$ with an additional column of 1s."
   ]
  },
  {
   "cell_type": "code",
   "execution_count": null,
   "id": "51f6a108-99c4-4742-9e31-3e60d048c685",
   "metadata": {},
   "outputs": [],
   "source": [
    "y = recipe_df['Total Fat'].to_numpy() # creates the vector y\n",
    "X = np.vstack([recipe_df.Cholesterol.to_numpy(), np.ones(len(recipe_df.Cholesterol))]).T # creates the matrix X\n",
    "X[:6,:] # prints the first six rows of the matrix X"
   ]
  },
  {
   "cell_type": "markdown",
   "id": "13f5d6b4-f82a-4951-af7a-e748a0ef9397",
   "metadata": {},
   "source": []
  },
  {
   "cell_type": "markdown",
   "id": "481f42cc-fa4b-48ec-8963-c0ba32151775",
   "metadata": {},
   "source": [
    "### Part 2.2.3: Fitting the Line of best fit (15 points)\n",
    "\n",
    "Use NumPy and linear algebra to find the slope and intercept of the line of best fit. Print out the final vector. Then, in a markdown cell, address **in detail** the following:\n",
    "\n",
    "1. What is the interpretation of the slope and intercept in the context of this problem?\n",
    "2. Explain in a few sentences why this operation is the same thing as \"projecting $y$ onto the span of $X$\"."
   ]
  },
  {
   "cell_type": "code",
   "execution_count": null,
   "id": "47a95648-1129-44d1-b0c9-cbe440950c22",
   "metadata": {},
   "outputs": [],
   "source": []
  },
  {
   "cell_type": "markdown",
   "id": "2df06481-9caf-4254-8e4d-fd80d8c632fd",
   "metadata": {},
   "source": []
  }
 ],
 "metadata": {
  "kernelspec": {
   "display_name": "Python (base)",
   "language": "python",
   "name": "base"
  },
  "language_info": {
   "codemirror_mode": {
    "name": "ipython",
    "version": 3
   },
   "file_extension": ".py",
   "mimetype": "text/x-python",
   "name": "python",
   "nbconvert_exporter": "python",
   "pygments_lexer": "ipython3",
   "version": "3.12.4"
  }
 },
 "nbformat": 4,
 "nbformat_minor": 5
}
